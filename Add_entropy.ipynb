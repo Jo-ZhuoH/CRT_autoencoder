{
 "cells": [
  {
   "cell_type": "markdown",
   "metadata": {
    "collapsed": true,
    "pycharm": {
     "name": "#%% md\n"
    }
   },
   "source": [
    "Add entropy and other parameters to the original tabular data."
   ]
  },
  {
   "cell_type": "code",
   "execution_count": 7,
   "outputs": [],
   "source": [
    "import pandas as pd"
   ],
   "metadata": {
    "collapsed": false,
    "pycharm": {
     "name": "#%%\n"
    }
   }
  },
  {
   "cell_type": "code",
   "execution_count": 19,
   "outputs": [
    {
     "data": {
      "text/plain": "   ACEI_or_ARB  AF  ARNI   Age  BMI     BNP  Betaloc  CABG  CAD  CKD  ...  \\\n0          1.0 NaN   0.0  81.0  NaN  2222.0      1.0   0.0  NaN  0.0  ...   \n1          1.0 NaN   0.0  50.0  NaN   377.0      1.0   0.0  NaN  0.0  ...   \n2          0.0 NaN   0.0  64.0  NaN  3305.0      1.0   0.0  NaN  0.0  ...   \n3          1.0 NaN   0.0  71.0  NaN  5407.0      1.0   0.0  NaN  0.0  ...   \n4          1.0 NaN   0.0  59.0  NaN  1350.0      1.0   0.0  NaN  0.0  ...   \n\n  SPECT_pre_WTsum  SPECT_pre_date  SPECT_pre_gMyoMass  \\\n0             NaN        2018/7/6               240.0   \n1             NaN       2018/6/13               239.0   \n2             NaN       2018/6/29               222.0   \n3             NaN        2018/8/6               228.0   \n4             NaN      2018/10/13               291.0   \n\n                                  SPECT_pre_rawarray  \\\n0  \\nAAAAAAAAAAAAAAAAAAAAAAAAAAAAAAAAAAAAAAAAAAAA...   \n1  \\nAAAAAAAAAAAAAAAAAAAAAAAAAAAAAAAAAAAAAAAAAAAA...   \n2  \\nAAAAAAAAAAAAAAAAAAAAAAAAAAAAAAAAAAAAAAAAAAAA...   \n3  \\nAAAAAAAAAAAAAAAAAAAAAAAAAAAAAAAAAAAAAAAAAAAA...   \n4  \\nAAAAAAAAAAAAAAAAAAAAAAAAAAAAAAAAAAAAAAAAAAAA...   \n\n                                SPECT_pre_rphasarray  \\\n0  \\nTgBQAFQAVgBVAFUAVQBXAFgAXwBiAFwAXgBiAGkAagBq...   \n1  \\naQBnAGcAYwBmAGYAZgBjAGUAZABmAGYAZgBmAGoAbABt...   \n2  \\ndwB6AH4AgQCDAIMAgwCCAH8AfgB8AHwAfAB8AHsAewB7...   \n3  \\nPQA/AEMAQwBDAEEARQBJAEkASQBJAEgARgBGAEgASgBI...   \n4  \\nUwBTAFMAWABaAFoAWgBbAF0AXgBcAFsAXQBfAF0AXgBe...   \n\n                                 SPECT_pre_rthkarray  Smoking Spironolactone  \\\n0  \\nvADIALwAvACwALAAsACwALAAmQCZAI0AjQCNAIEAjQCN...      NaN            1.0   \n1  \\nnwGfAZ8BhgFuAW4BbgFVAVUBPQElASUBJQElASUBVQFV...      NaN            0.0   \n2  \\nugHFAdoB2gHkAe8B5AHPAcUB2gHaAdoB2gHaAeQB7wH5...      NaN            1.0   \n3  \\nLwIeAh4CHgIeAh4CLwJRAh4C/AH8AewB2wHsAewB2wHs...      NaN            1.0   \n4  \\nkwKTApMCkwKTApMCkwKTAnwCfAJmAmYCZgJmAk8CTwJP...      NaN            1.0   \n\n   height weight  \n0     NaN    NaN  \n1     NaN    NaN  \n2     NaN    NaN  \n3     NaN    NaN  \n4     NaN    NaN  \n\n[5 rows x 112 columns]",
      "text/html": "<div>\n<style scoped>\n    .dataframe tbody tr th:only-of-type {\n        vertical-align: middle;\n    }\n\n    .dataframe tbody tr th {\n        vertical-align: top;\n    }\n\n    .dataframe thead th {\n        text-align: right;\n    }\n</style>\n<table border=\"1\" class=\"dataframe\">\n  <thead>\n    <tr style=\"text-align: right;\">\n      <th></th>\n      <th>ACEI_or_ARB</th>\n      <th>AF</th>\n      <th>ARNI</th>\n      <th>Age</th>\n      <th>BMI</th>\n      <th>BNP</th>\n      <th>Betaloc</th>\n      <th>CABG</th>\n      <th>CAD</th>\n      <th>CKD</th>\n      <th>...</th>\n      <th>SPECT_pre_WTsum</th>\n      <th>SPECT_pre_date</th>\n      <th>SPECT_pre_gMyoMass</th>\n      <th>SPECT_pre_rawarray</th>\n      <th>SPECT_pre_rphasarray</th>\n      <th>SPECT_pre_rthkarray</th>\n      <th>Smoking</th>\n      <th>Spironolactone</th>\n      <th>height</th>\n      <th>weight</th>\n    </tr>\n  </thead>\n  <tbody>\n    <tr>\n      <th>0</th>\n      <td>1.0</td>\n      <td>NaN</td>\n      <td>0.0</td>\n      <td>81.0</td>\n      <td>NaN</td>\n      <td>2222.0</td>\n      <td>1.0</td>\n      <td>0.0</td>\n      <td>NaN</td>\n      <td>0.0</td>\n      <td>...</td>\n      <td>NaN</td>\n      <td>2018/7/6</td>\n      <td>240.0</td>\n      <td>\\nAAAAAAAAAAAAAAAAAAAAAAAAAAAAAAAAAAAAAAAAAAAA...</td>\n      <td>\\nTgBQAFQAVgBVAFUAVQBXAFgAXwBiAFwAXgBiAGkAagBq...</td>\n      <td>\\nvADIALwAvACwALAAsACwALAAmQCZAI0AjQCNAIEAjQCN...</td>\n      <td>NaN</td>\n      <td>1.0</td>\n      <td>NaN</td>\n      <td>NaN</td>\n    </tr>\n    <tr>\n      <th>1</th>\n      <td>1.0</td>\n      <td>NaN</td>\n      <td>0.0</td>\n      <td>50.0</td>\n      <td>NaN</td>\n      <td>377.0</td>\n      <td>1.0</td>\n      <td>0.0</td>\n      <td>NaN</td>\n      <td>0.0</td>\n      <td>...</td>\n      <td>NaN</td>\n      <td>2018/6/13</td>\n      <td>239.0</td>\n      <td>\\nAAAAAAAAAAAAAAAAAAAAAAAAAAAAAAAAAAAAAAAAAAAA...</td>\n      <td>\\naQBnAGcAYwBmAGYAZgBjAGUAZABmAGYAZgBmAGoAbABt...</td>\n      <td>\\nnwGfAZ8BhgFuAW4BbgFVAVUBPQElASUBJQElASUBVQFV...</td>\n      <td>NaN</td>\n      <td>0.0</td>\n      <td>NaN</td>\n      <td>NaN</td>\n    </tr>\n    <tr>\n      <th>2</th>\n      <td>0.0</td>\n      <td>NaN</td>\n      <td>0.0</td>\n      <td>64.0</td>\n      <td>NaN</td>\n      <td>3305.0</td>\n      <td>1.0</td>\n      <td>0.0</td>\n      <td>NaN</td>\n      <td>0.0</td>\n      <td>...</td>\n      <td>NaN</td>\n      <td>2018/6/29</td>\n      <td>222.0</td>\n      <td>\\nAAAAAAAAAAAAAAAAAAAAAAAAAAAAAAAAAAAAAAAAAAAA...</td>\n      <td>\\ndwB6AH4AgQCDAIMAgwCCAH8AfgB8AHwAfAB8AHsAewB7...</td>\n      <td>\\nugHFAdoB2gHkAe8B5AHPAcUB2gHaAdoB2gHaAeQB7wH5...</td>\n      <td>NaN</td>\n      <td>1.0</td>\n      <td>NaN</td>\n      <td>NaN</td>\n    </tr>\n    <tr>\n      <th>3</th>\n      <td>1.0</td>\n      <td>NaN</td>\n      <td>0.0</td>\n      <td>71.0</td>\n      <td>NaN</td>\n      <td>5407.0</td>\n      <td>1.0</td>\n      <td>0.0</td>\n      <td>NaN</td>\n      <td>0.0</td>\n      <td>...</td>\n      <td>NaN</td>\n      <td>2018/8/6</td>\n      <td>228.0</td>\n      <td>\\nAAAAAAAAAAAAAAAAAAAAAAAAAAAAAAAAAAAAAAAAAAAA...</td>\n      <td>\\nPQA/AEMAQwBDAEEARQBJAEkASQBJAEgARgBGAEgASgBI...</td>\n      <td>\\nLwIeAh4CHgIeAh4CLwJRAh4C/AH8AewB2wHsAewB2wHs...</td>\n      <td>NaN</td>\n      <td>1.0</td>\n      <td>NaN</td>\n      <td>NaN</td>\n    </tr>\n    <tr>\n      <th>4</th>\n      <td>1.0</td>\n      <td>NaN</td>\n      <td>0.0</td>\n      <td>59.0</td>\n      <td>NaN</td>\n      <td>1350.0</td>\n      <td>1.0</td>\n      <td>0.0</td>\n      <td>NaN</td>\n      <td>0.0</td>\n      <td>...</td>\n      <td>NaN</td>\n      <td>2018/10/13</td>\n      <td>291.0</td>\n      <td>\\nAAAAAAAAAAAAAAAAAAAAAAAAAAAAAAAAAAAAAAAAAAAA...</td>\n      <td>\\nUwBTAFMAWABaAFoAWgBbAF0AXgBcAFsAXQBfAF0AXgBe...</td>\n      <td>\\nkwKTApMCkwKTApMCkwKTAnwCfAJmAmYCZgJmAk8CTwJP...</td>\n      <td>NaN</td>\n      <td>1.0</td>\n      <td>NaN</td>\n      <td>NaN</td>\n    </tr>\n  </tbody>\n</table>\n<p>5 rows × 112 columns</p>\n</div>"
     },
     "execution_count": 19,
     "metadata": {},
     "output_type": "execute_result"
    }
   ],
   "source": [
    "data_path = \"/home/zhuo/Desktop/CRT_autoencoder/data/1010_3_clinicalData_4trials.csv\"\n",
    "df = pd.read_csv(data_path, header=0)\n",
    "df.head()"
   ],
   "metadata": {
    "collapsed": false,
    "pycharm": {
     "name": "#%%\n"
    }
   }
  },
  {
   "cell_type": "code",
   "execution_count": 20,
   "outputs": [
    {
     "data": {
      "text/plain": "               ID                                        polar_perfu  \\\n46              1  [[1177.0, 1177.0, 1177.0, 1177.0, 1177.0, 1177...   \n47           1001  [[1757.0, 1757.0, 1757.0, 1757.0, 1757.0, 1757...   \n48           1002  [[1455.0, 1455.0, 1455.0, 1455.0, 1455.0, 1455...   \n49           1003  [[1291.0, 1291.0, 1291.0, 1291.0, 1291.0, 1291...   \n50           1004  [[1340.0, 1340.0, 1340.0, 1340.0, 1340.0, 1340...   \n..            ...                                                ...   \n408  SPA-010-PEBE  [[592.0, 592.0, 592.0, 592.0, 592.0, 592.0, 59...   \n409  SPA-011-DIIL  [[1303.0, 1303.0, 1303.0, 1303.0, 1303.0, 1303...   \n410  SPA-012-VIAN  [[1461.0, 1461.0, 1461.0, 1461.0, 1461.0, 1461...   \n411  SPA-013-CEJU  [[1187.0, 1187.0, 1187.0, 1187.0, 1187.0, 1187...   \n412  SPA-014-LOJO  [[1184.0, 1184.0, 1184.0, 1184.0, 1184.0, 1184...   \n\n                                        polar_sysphase  \\\n46   [[345.0, 345.0, 345.0, 343.0, 337.0, 336.0, 34...   \n47   [[120.0, 120.0, 121.0, 121.0, 124.0, 124.0, 12...   \n48   [[97.0, 97.0, 97.0, 97.0, 96.0, 95.0, 95.0, 96...   \n49   [[120.0, 118.0, 117.0, 116.0, 118.0, 126.0, 14...   \n50   [[99.0, 101.0, 101.0, 101.0, 102.0, 102.0, 102...   \n..                                                 ...   \n408  [[165.0, 169.0, 164.0, 161.0, 163.0, 163.0, 16...   \n409  [[193.0, 203.0, 204.0, 202.0, 199.0, 196.0, 19...   \n410  [[155.0, 162.0, 162.0, 160.0, 158.0, 157.0, 15...   \n411  [[167.0, 166.0, 164.0, 163.0, 163.0, 163.0, 16...   \n412  [[121.0, 121.0, 121.0, 121.0, 121.0, 121.0, 12...   \n\n                                         polar_wallthk  \n46   [[254.0, 251.0, 251.0, 259.0, 279.0, 278.0, 24...  \n47   [[611.0, 611.0, 667.0, 667.0, 722.0, 722.0, 72...  \n48   [[578.0, 578.0, 567.0, 567.0, 578.0, 578.0, 56...  \n49   [[143.0, 95.0, 48.0, 48.0, 48.0, 48.0, 95.0, 9...  \n50   [[446.0, 459.0, 486.0, 514.0, 527.0, 527.0, 52...  \n..                                                 ...  \n408  [[350.0, 350.0, 350.0, 350.0, 350.0, 300.0, 30...  \n409  [[125.0, 125.0, 250.0, 250.0, 250.0, 250.0, 25...  \n410  [[778.0, 667.0, 667.0, 667.0, 778.0, 778.0, 77...  \n411  [[333.0, 333.0, 333.0, 333.0, 333.0, 333.0, 33...  \n412  [[667.0, 667.0, 667.0, 667.0, 667.0, 667.0, 66...  \n\n[413 rows x 4 columns]",
      "text/html": "<div>\n<style scoped>\n    .dataframe tbody tr th:only-of-type {\n        vertical-align: middle;\n    }\n\n    .dataframe tbody tr th {\n        vertical-align: top;\n    }\n\n    .dataframe thead th {\n        text-align: right;\n    }\n</style>\n<table border=\"1\" class=\"dataframe\">\n  <thead>\n    <tr style=\"text-align: right;\">\n      <th></th>\n      <th>ID</th>\n      <th>polar_perfu</th>\n      <th>polar_sysphase</th>\n      <th>polar_wallthk</th>\n    </tr>\n  </thead>\n  <tbody>\n    <tr>\n      <th>46</th>\n      <td>1</td>\n      <td>[[1177.0, 1177.0, 1177.0, 1177.0, 1177.0, 1177...</td>\n      <td>[[345.0, 345.0, 345.0, 343.0, 337.0, 336.0, 34...</td>\n      <td>[[254.0, 251.0, 251.0, 259.0, 279.0, 278.0, 24...</td>\n    </tr>\n    <tr>\n      <th>47</th>\n      <td>1001</td>\n      <td>[[1757.0, 1757.0, 1757.0, 1757.0, 1757.0, 1757...</td>\n      <td>[[120.0, 120.0, 121.0, 121.0, 124.0, 124.0, 12...</td>\n      <td>[[611.0, 611.0, 667.0, 667.0, 722.0, 722.0, 72...</td>\n    </tr>\n    <tr>\n      <th>48</th>\n      <td>1002</td>\n      <td>[[1455.0, 1455.0, 1455.0, 1455.0, 1455.0, 1455...</td>\n      <td>[[97.0, 97.0, 97.0, 97.0, 96.0, 95.0, 95.0, 96...</td>\n      <td>[[578.0, 578.0, 567.0, 567.0, 578.0, 578.0, 56...</td>\n    </tr>\n    <tr>\n      <th>49</th>\n      <td>1003</td>\n      <td>[[1291.0, 1291.0, 1291.0, 1291.0, 1291.0, 1291...</td>\n      <td>[[120.0, 118.0, 117.0, 116.0, 118.0, 126.0, 14...</td>\n      <td>[[143.0, 95.0, 48.0, 48.0, 48.0, 48.0, 95.0, 9...</td>\n    </tr>\n    <tr>\n      <th>50</th>\n      <td>1004</td>\n      <td>[[1340.0, 1340.0, 1340.0, 1340.0, 1340.0, 1340...</td>\n      <td>[[99.0, 101.0, 101.0, 101.0, 102.0, 102.0, 102...</td>\n      <td>[[446.0, 459.0, 486.0, 514.0, 527.0, 527.0, 52...</td>\n    </tr>\n    <tr>\n      <th>...</th>\n      <td>...</td>\n      <td>...</td>\n      <td>...</td>\n      <td>...</td>\n    </tr>\n    <tr>\n      <th>408</th>\n      <td>SPA-010-PEBE</td>\n      <td>[[592.0, 592.0, 592.0, 592.0, 592.0, 592.0, 59...</td>\n      <td>[[165.0, 169.0, 164.0, 161.0, 163.0, 163.0, 16...</td>\n      <td>[[350.0, 350.0, 350.0, 350.0, 350.0, 300.0, 30...</td>\n    </tr>\n    <tr>\n      <th>409</th>\n      <td>SPA-011-DIIL</td>\n      <td>[[1303.0, 1303.0, 1303.0, 1303.0, 1303.0, 1303...</td>\n      <td>[[193.0, 203.0, 204.0, 202.0, 199.0, 196.0, 19...</td>\n      <td>[[125.0, 125.0, 250.0, 250.0, 250.0, 250.0, 25...</td>\n    </tr>\n    <tr>\n      <th>410</th>\n      <td>SPA-012-VIAN</td>\n      <td>[[1461.0, 1461.0, 1461.0, 1461.0, 1461.0, 1461...</td>\n      <td>[[155.0, 162.0, 162.0, 160.0, 158.0, 157.0, 15...</td>\n      <td>[[778.0, 667.0, 667.0, 667.0, 778.0, 778.0, 77...</td>\n    </tr>\n    <tr>\n      <th>411</th>\n      <td>SPA-013-CEJU</td>\n      <td>[[1187.0, 1187.0, 1187.0, 1187.0, 1187.0, 1187...</td>\n      <td>[[167.0, 166.0, 164.0, 163.0, 163.0, 163.0, 16...</td>\n      <td>[[333.0, 333.0, 333.0, 333.0, 333.0, 333.0, 33...</td>\n    </tr>\n    <tr>\n      <th>412</th>\n      <td>SPA-014-LOJO</td>\n      <td>[[1184.0, 1184.0, 1184.0, 1184.0, 1184.0, 1184...</td>\n      <td>[[121.0, 121.0, 121.0, 121.0, 121.0, 121.0, 12...</td>\n      <td>[[667.0, 667.0, 667.0, 667.0, 667.0, 667.0, 66...</td>\n    </tr>\n  </tbody>\n</table>\n<p>413 rows × 4 columns</p>\n</div>"
     },
     "execution_count": 20,
     "metadata": {},
     "output_type": "execute_result"
    }
   ],
   "source": [],
   "metadata": {
    "collapsed": false,
    "pycharm": {
     "name": "#%%\n"
    }
   }
  },
  {
   "cell_type": "code",
   "execution_count": null,
   "outputs": [],
   "source": [],
   "metadata": {
    "collapsed": false,
    "pycharm": {
     "name": "#%%\n"
    }
   }
  }
 ],
 "metadata": {
  "kernelspec": {
   "display_name": "Python 3",
   "language": "python",
   "name": "python3"
  },
  "language_info": {
   "codemirror_mode": {
    "name": "ipython",
    "version": 2
   },
   "file_extension": ".py",
   "mimetype": "text/x-python",
   "name": "python",
   "nbconvert_exporter": "python",
   "pygments_lexer": "ipython2",
   "version": "2.7.6"
  }
 },
 "nbformat": 4,
 "nbformat_minor": 0
}